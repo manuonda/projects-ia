{
 "cells": [
  {
   "cell_type": "code",
   "execution_count": 7,
   "id": "6921a62b",
   "metadata": {},
   "outputs": [],
   "source": [
    "from dotenv import load_dotenv\n",
    "from langchain_openai import ChatOpenAI\n",
    "from langchain_core import tools\n",
    "from langchain.tools import tool\n",
    "from IPython.display import Markdown\n",
    "\n",
    "\n",
    "load_dotenv(\"./.env\")\n",
    "\n",
    "llm = ChatOpenAI(model=\"gpt-4o\")\n",
    "\n"
   ]
  },
  {
   "cell_type": "code",
   "execution_count": null,
   "id": "007e138a",
   "metadata": {},
   "outputs": [
    {
     "name": "stdout",
     "output_type": "stream",
     "text": [
      "{'name': 'write_email', 'args': {'to': 'manuonda@gmail.com', 'subject': '¡Eres un crack!', 'content': '¡Hola! Solo quería tomarme un momento para decirte que eres un crack. Sigue haciendo ese gran trabajo y esperamos ver todo lo increíble que lograrás. ¡Un fuerte abrazo!'}, 'id': 'call_KtWaQdcuJPAdMOEKojg69E4U', 'type': 'tool_call'}\n",
      "Name tool : write_email\n",
      "Args : {'to': 'manuonda@gmail.com', 'subject': '¡Eres un crack!', 'content': '¡Hola! Solo quería tomarme un momento para decirte que eres un crack. Sigue haciendo ese gran trabajo y esperamos ver todo lo increíble que lograrás. ¡Un fuerte abrazo!'}\n"
     ]
    },
    {
     "data": {
      "text/markdown": [
       "Email sent to manuonda@gmail.com with subject ¡Eres un crack! and content : ¡Hola! Solo quería tomarme un momento para decirte que eres un crack. Sigue haciendo ese gran trabajo y esperamos ver todo lo increíble que lograrás. ¡Un fuerte abrazo!"
      ],
      "text/plain": [
       "<IPython.core.display.Markdown object>"
      ]
     },
     "execution_count": 15,
     "metadata": {},
     "output_type": "execute_result"
    }
   ],
   "source": [
    "@tool \n",
    "def write_email(to: str, subject:str, content: str) -> str:\n",
    "    \"\"\"Write and send email\"\"\"\n",
    "    return f\"Email sent to {to} with subject {subject} and content : {content}\"\n",
    "\n",
    "model_with_tools = llm.bind_tools( [write_email] , parallel_tool_calls=False)\n",
    "output = model_with_tools.invoke(\"Envia un email a manuonda@gmail.com diciendo que es un crack\")\n",
    "\n",
    "print(output.tool_calls[0])\n",
    "print(f\"Name tool : {output.tool_calls[0]['name']}\")\n",
    "\n",
    "type(output)\n",
    "args = output.tool_calls[0]['args']\n",
    "print(f\"Args : {args}\")\n",
    "\n",
    "#call the tool\n",
    "result = write_email.invoke(args)\n",
    "Markdown(result)\n"
   ]
  },
  {
   "cell_type": "code",
   "execution_count": null,
   "id": "786466a7",
   "metadata": {},
   "outputs": [],
   "source": [
    "from typing import TypedDict\n",
    "from langgraph.graph  import START, END, StateGraph\n",
    "\n",
    "class StateSchema(TypedDict):\n",
    "    request: str\n",
    "    email: str\n",
    "    \n",
    "workflow = StateGraph(StateSchema)\n",
    "\n",
    "def write_email(state: StateSchema)-> StateSchema:\n",
    "    \"\"\" Imperative code that processes the request \"\"\"\n",
    "    output = model_with_tools.invoke(state['request'])\n",
    "    args = output.tool_calls['0']['args']\n",
    "    email = write_email.invoke(args)\n",
    "    return {\"email\": email}\n",
    "\n",
    "\n",
    "workflow.add_node(\"write_email\")\n"
   ]
  }
 ],
 "metadata": {
  "kernelspec": {
   "display_name": ".venv",
   "language": "python",
   "name": "python3"
  },
  "language_info": {
   "codemirror_mode": {
    "name": "ipython",
    "version": 3
   },
   "file_extension": ".py",
   "mimetype": "text/x-python",
   "name": "python",
   "nbconvert_exporter": "python",
   "pygments_lexer": "ipython3",
   "version": "3.12.7"
  }
 },
 "nbformat": 4,
 "nbformat_minor": 5
}
