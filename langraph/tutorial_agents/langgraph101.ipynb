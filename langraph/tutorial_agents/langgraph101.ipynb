{
 "cells": [
  {
   "cell_type": "code",
   "execution_count": 2,
   "id": "6921a62b",
   "metadata": {},
   "outputs": [],
   "source": [
    "from dotenv import load_dotenv\n",
    "from langchain_openai import ChatOpenAI\n",
    "from langchain_core import tools\n",
    "from langchain.tools import tool\n",
    "from IPython.display import Markdown\n",
    "\n",
    "\n",
    "load_dotenv(\"./.env\")\n",
    "\n",
    "llm = ChatOpenAI(model=\"gpt-4o\")\n",
    "\n"
   ]
  },
  {
   "cell_type": "code",
   "execution_count": 3,
   "id": "007e138a",
   "metadata": {},
   "outputs": [
    {
     "name": "stdout",
     "output_type": "stream",
     "text": [
      "{'name': 'write_email', 'args': {'to': 'manuonda@gmail.com', 'subject': '¡Eres un crack!', 'content': 'Hola Manu,\\n\\nSolo quería tomarme un momento para decirte que eres un verdadero crack en todo lo que haces. ¡Sigue así!\\n\\nSaludos,\\n\\n[Tu Nombre]'}, 'id': 'call_1wwrKiTskbvn9G6RWT983IEq', 'type': 'tool_call'}\n",
      "Name tool : write_email\n",
      "Args : {'to': 'manuonda@gmail.com', 'subject': '¡Eres un crack!', 'content': 'Hola Manu,\\n\\nSolo quería tomarme un momento para decirte que eres un verdadero crack en todo lo que haces. ¡Sigue así!\\n\\nSaludos,\\n\\n[Tu Nombre]'}\n"
     ]
    },
    {
     "data": {
      "text/markdown": [
       "Email sent to manuonda@gmail.com with subject ¡Eres un crack! and content : Hola Manu,\n",
       "\n",
       "Solo quería tomarme un momento para decirte que eres un verdadero crack en todo lo que haces. ¡Sigue así!\n",
       "\n",
       "Saludos,\n",
       "\n",
       "[Tu Nombre]"
      ],
      "text/plain": [
       "<IPython.core.display.Markdown object>"
      ]
     },
     "execution_count": 3,
     "metadata": {},
     "output_type": "execute_result"
    }
   ],
   "source": [
    "@tool \n",
    "def write_email(to: str, subject:str, content: str) -> str:\n",
    "    \"\"\"Write and send email\"\"\"\n",
    "    return f\"Email sent to {to} with subject {subject} and content : {content}\"\n",
    "\n",
    "model_with_tools = llm.bind_tools( [write_email] , parallel_tool_calls=False)\n",
    "output = model_with_tools.invoke(\"Envia un email a manuonda@gmail.com diciendo que es un crack\")\n",
    "\n",
    "print(output.tool_calls[0])\n",
    "print(f\"Name tool : {output.tool_calls[0]['name']}\")\n",
    "\n",
    "type(output)\n",
    "args = output.tool_calls[0]['args']\n",
    "print(f\"Args : {args}\")\n",
    "\n",
    "#call the tool\n",
    "result = write_email.invoke(args)\n",
    "Markdown(result)\n"
   ]
  },
  {
   "cell_type": "code",
   "execution_count": 4,
   "id": "786466a7",
   "metadata": {},
   "outputs": [
    {
     "name": "stdout",
     "output_type": "stream",
     "text": [
      "content='Could you please provide more details about the content or purpose of the meeting so I can draft a more specific response?' additional_kwargs={'refusal': None} response_metadata={'token_usage': {'completion_tokens': 24, 'prompt_tokens': 66, 'total_tokens': 90, 'completion_tokens_details': {'accepted_prediction_tokens': 0, 'audio_tokens': 0, 'reasoning_tokens': 0, 'rejected_prediction_tokens': 0}, 'prompt_tokens_details': {'audio_tokens': 0, 'cached_tokens': 0}}, 'model_name': 'gpt-4o-2024-08-06', 'system_fingerprint': None, 'finish_reason': 'stop', 'logprobs': None} id='run-6682b948-cad5-4c0b-ba92-dbaa3ca11372-0' usage_metadata={'input_tokens': 66, 'output_tokens': 24, 'total_tokens': 90, 'input_token_details': {'audio': 0, 'cache_read': 0}, 'output_token_details': {'audio': 0, 'reasoning': 0}}\n"
     ]
    },
    {
     "data": {
      "text/plain": [
       "{'request': \"Draft a response to my boss (boss@company.ai) about tomorrow's meeting\",\n",
       " 'email': 'Could you please provide more details about the content or purpose of the meeting so I can draft a more specific response?'}"
      ]
     },
     "execution_count": 4,
     "metadata": {},
     "output_type": "execute_result"
    }
   ],
   "source": [
    "from typing import TypedDict\n",
    "from langgraph.graph import StateGraph, START, END\n",
    "\n",
    "class StateSchema(TypedDict):\n",
    "    request: str\n",
    "    email: str\n",
    "\n",
    "workflow = StateGraph(StateSchema)\n",
    "\n",
    "\n",
    "\n",
    "\n",
    "def write_email_node(state: StateSchema) -> StateSchema:\n",
    "    # Imperative code that processes the request\n",
    "    output = model_with_tools.invoke(state[\"request\"])\n",
    "    print(output)\n",
    "    if output.tool_calls:\n",
    "      args = output.tool_calls[0]['args']\n",
    "      email = write_email.invoke(args)\n",
    "      return {\"email\": email}\n",
    "    else:\n",
    "        return {\"email\": output.content}\n",
    "\n",
    "\n",
    "\n",
    "workflow = StateGraph(StateSchema)\n",
    "workflow.add_node(\"write_email_node\", write_email_node)\n",
    "workflow.add_edge(START, \"write_email_node\")\n",
    "workflow.add_edge(\"write_email_node\", END)\n",
    "\n",
    "app = workflow.compile()\n",
    "\n",
    "app.invoke({\"request\": \"Draft a response to my boss (boss@company.ai) about tomorrow's meeting\"})#\n"
   ]
  },
  {
   "cell_type": "code",
   "execution_count": 5,
   "id": "64c6c2ba",
   "metadata": {},
   "outputs": [
    {
     "name": "stdout",
     "output_type": "stream",
     "text": [
      "================================\u001b[1m Human Message \u001b[0m=================================\n",
      "\n",
      "Draft a response to my boss (boss@company.ai) confirming that I want to attend Interrupt!\n",
      "==================================\u001b[1m Ai Message \u001b[0m==================================\n",
      "Tool Calls:\n",
      "  write_email (call_xeSgtxMaUMU9MDSOlgl5qa8Y)\n",
      " Call ID: call_xeSgtxMaUMU9MDSOlgl5qa8Y\n",
      "  Args:\n",
      "    to: boss@company.ai\n",
      "    subject: Confirmation: Attendance at Interrupt! Conference\n",
      "    content: Hi Boss,\n",
      "\n",
      "I hope this message finds you well. I am writing to confirm my interest in attending the Interrupt! conference. I believe it will be a great opportunity for professional development and networking.\n",
      "\n",
      "Please let me know if there are any further steps needed from my end.\n",
      "\n",
      "Thank you for supporting my participation.\n",
      "\n",
      "Best regards,\n",
      "\n",
      "[Your Name]\n",
      "=================================\u001b[1m Tool Message \u001b[0m=================================\n",
      "Name: write_email\n",
      "\n",
      "Email sent to boss@company.ai with subject Confirmation: Attendance at Interrupt! Conference and content : Hi Boss,\n",
      "\n",
      "I hope this message finds you well. I am writing to confirm my interest in attending the Interrupt! conference. I believe it will be a great opportunity for professional development and networking.\n",
      "\n",
      "Please let me know if there are any further steps needed from my end.\n",
      "\n",
      "Thank you for supporting my participation.\n",
      "\n",
      "Best regards,\n",
      "\n",
      "[Your Name]\n",
      "==================================\u001b[1m Ai Message \u001b[0m==================================\n",
      "\n",
      "I've drafted and sent a confirmation email to your boss about attending the Interrupt! conference. If there's anything else you need, feel free to ask!\n"
     ]
    }
   ],
   "source": [
    "from langgraph.prebuilt import create_react_agent\n",
    "\n",
    "agent = create_react_agent(\n",
    "    model=llm,\n",
    "    tools=[write_email],\n",
    "    prompt=\"Respond to the user's request using the tools provided\"\n",
    ")\n",
    "result = agent.invoke(\n",
    "    {\"messages\": [{\"role\": \"user\", \"content\": \"Draft a response to my boss (boss@company.ai) confirming that I want to attend Interrupt!\"}]}\n",
    " )\n",
    "for  m in result[\"messages\"]:\n",
    "    m.pretty_print()\n",
    "    "
   ]
  },
  {
   "cell_type": "markdown",
   "id": "e97e5916",
   "metadata": {},
   "source": [
    "#Persistence \n",
    "Threads\n",
    "\n",
    "It can be very useful to allow agents to pause during long running tasks.\n",
    "\n",
    "LangGraph has a built-in persistence layer, implemented through checkpointers, to enable this.\n",
    "\n",
    "When you compile graph with a checkpointer, the checkpointer saves a checkpoint of the graph state at every step.\n",
    "\n",
    "Checkpoints are saved to a thread, which can be accessed after graph execution completes."
   ]
  },
  {
   "cell_type": "code",
   "execution_count": 14,
   "id": "7e91b803",
   "metadata": {},
   "outputs": [
    {
     "name": "stdout",
     "output_type": "stream",
     "text": [
      "================================\u001b[1m Human Message \u001b[0m=================================\n",
      "\n",
      "What are somge doog practices for writing emails ? \n",
      "==================================\u001b[1m Ai Message \u001b[0m==================================\n",
      "\n",
      "Here are some good practices for writing emails:\n",
      "\n",
      "1. **Clear Subject Line**: Use a concise and relevant subject line to give the recipient an idea of the email's content.\n",
      "\n",
      "2. **Professional Greeting**: Start with a polite greeting. Use the recipient's name if you know it.\n",
      "\n",
      "3. **Be Concise and Focused**: Keep your email brief and to the point. Focus on one main topic per email.\n",
      "\n",
      "4. **Use a Professional Tone**: Maintain a formal tone, especially in business communications.\n",
      "\n",
      "5. **Proper Structure**: Use paragraphs to separate different ideas or topics. This makes your email easier to read.\n",
      "\n",
      "6. **Use Bullets or Numbers**: If you have multiple points, use bullets or numbers to list them clearly.\n",
      "\n",
      "7. **Check Spelling and Grammar**: Proofread your email to correct any spelling or grammatical mistakes.\n",
      "\n",
      "8. **Clear Call to Action**: If you're expecting a response or action, state it clearly.\n",
      "\n",
      "9. **Use a Proper Sign-Off**: End your email with a polite sign-off, like \"Best regards,\" followed by your name.\n",
      "\n",
      "10. **Include a Signature**: Add your contact information in a signature at the end of your email, including your position, company, and any relevant contact details.\n",
      "\n",
      "Implementing these practices can help ensure your emails are effective and professional.\n"
     ]
    }
   ],
   "source": [
    "from langgraph.checkpoint.memory import MemorySaver\n",
    "\n",
    "agent = create_react_agent(\n",
    "    tools=[write_email],\n",
    "    model = llm,\n",
    "    prompt=\"Responde to the user's request using the tools provided.\",\n",
    "    checkpointer=MemorySaver()\n",
    ")\n",
    "\n",
    "config = {\"configurable\": {\"thread_id\":\"1\"}}\n",
    "result = agent.invoke({\"messages\":[{\"role\": \"user\", \"content\": \"What are somge doog practices for writing emails ? \"}]}, config)\n",
    "\n",
    "#Get th latest state snapshot \n",
    "config = {\"configurable\": {\"thread_id\": \"1\"}}\n",
    "state = agent.get_state(config)\n",
    "for m in state.values[\"messages\"]:\n",
    "   m.pretty_print()\n"
   ]
  },
  {
   "cell_type": "code",
   "execution_count": null,
   "id": "d01b4077",
   "metadata": {},
   "outputs": [],
   "source": [
    "#continue the conversation\n",
    "result = agent.invoke({\"messages\":[\"role\":\"user\", \"content\"]})"
   ]
  }
 ],
 "metadata": {
  "kernelspec": {
   "display_name": "base",
   "language": "python",
   "name": "python3"
  },
  "language_info": {
   "codemirror_mode": {
    "name": "ipython",
    "version": 3
   },
   "file_extension": ".py",
   "mimetype": "text/x-python",
   "name": "python",
   "nbconvert_exporter": "python",
   "pygments_lexer": "ipython3",
   "version": "3.12.2"
  }
 },
 "nbformat": 4,
 "nbformat_minor": 5
}
