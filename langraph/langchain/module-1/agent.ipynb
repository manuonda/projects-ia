{
 "cells": [
  {
   "cell_type": "code",
   "execution_count": null,
   "id": "469763e7",
   "metadata": {},
   "outputs": [],
   "source": []
  },
  {
   "cell_type": "code",
   "execution_count": null,
   "id": "ad0a8084",
   "metadata": {},
   "outputs": [],
   "source": [
    "from langchain_openai import ChatOpenAI\n",
    "from langgraph.graph import StateGraph, START, END\n",
    "from langchain_core.messages import HumanMessage, AIMessage\n",
    "from dotenv import load_dotenv\n",
    "\n",
    "load_dotenv(\"./.env\")\n",
    "from langchain_openai import ChatOpenAI\n",
    "from langchain_core.tools import tool\n",
    "from langchain_core.messages import BaseMessage\n",
    "from langgraph.prebuilt import ToolNode\n",
    "from langgraph.graph.message import add_messages\n",
    "from typing_extensions import TypedDict\n",
    "from typing import Annotated, Sequence\n",
    "\n",
    "class AgentState(TypedDict):\n",
    "    \"\"\"State for the agent.\"\"\"\n",
    "    messages: Annotated[Sequence[BaseMessage], add_messages]\n",
    "\n",
    "llm = ChatOpenAI(model=\"gpt-4o\")\n",
    "\n",
    "@tool\n",
    "def add(x: int , y:int) -> int:\n",
    "    \"\"\"Add two nombers and return the resutl.\"\"\"\n",
    "    return x + y\n",
    "\n",
    "@tool\n",
    "def subtract(x: int, y: int) -> int:\n",
    "    \"\"\"Subtract two numbers and return the result.\"\"\"\n",
    "    return x - y\n",
    "\n",
    "tools =[add,subtract]\n",
    "llm_with_tools = llm.bind_tools(tools)\n",
    "\n",
    "sys_msg = \"You are a helpful assistant that can add and subtract numbers. You can use the tools 'add' and 'subtract' to perform these operations.\"\n",
    "\n",
    "def assistant(state: AgentState) -> AgentState:\n",
    "    \"\"\"Assistant function that processes the state and returns the messages.\"\"\"\n",
    "    response = llm_with_tools.invoke([sys_msg] + state[\"messages\"])\n",
    "    return {\"messages\": response}\n",
    "\n",
    "def conditional_edge(state: AgentState) -> str:\n",
    "    \"\"\"Determine the next node based on the state.\"\"\"\n",
    "    return \"add\" \n",
    "\n",
    "toolNode = ToolNode(tools)\n",
    "\n",
    "\n"
   ]
  },
  {
   "cell_type": "code",
   "execution_count": null,
   "id": "5b2b075d",
   "metadata": {},
   "outputs": [],
   "source": [
    "\n",
    "graph = StateGraph(AgentState)\n",
    "graph.add_node(\"assistant\", assistant)\n",
    "graph.add_node(\"toolNode\", toolNode)\n",
    "graph.add_edge(START, \"assistant\")\n",
    "graph.add_conditional_edges(\n",
    "    \"assistant\",\n",
    "    conditional_edge {\n",
    "        \"add\": \"toolNode\",\n",
    "        \"subtract\":\"toolNode\",\n",
    "    }\n",
    ")"
   ]
  }
 ],
 "metadata": {
  "kernelspec": {
   "display_name": ".venv",
   "language": "python",
   "name": "python3"
  },
  "language_info": {
   "name": "python",
   "version": "3.12.7"
  }
 },
 "nbformat": 4,
 "nbformat_minor": 5
}
