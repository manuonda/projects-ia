{
 "cells": [
  {
   "cell_type": "code",
   "execution_count": null,
   "id": "bf02c93e",
   "metadata": {},
   "outputs": [],
   "source": [
    "from typing import List, Tuple, TypedDict, Type, Annotated, Sequence\n",
    "from langchain_core.messages import BaseMessage\n",
    "from langgraph.graph.message import add_messages\n",
    "\n",
    "class AgentState(TypedDict):\n",
    "    \"\"\" State of the agent.\"\"\"\n",
    "    messages: Annotated[Sequence[BaseMessage], add_messages]\n",
    "    number_of_steps: int\n",
    "\n",
    "\n",
    "\n",
    "### tool    \n",
    "from langchain_core.tools import tool\n",
    "from geopy.geocder import Nominatim \n",
    "from pydantic import BaseModel, Field\n",
    "import requests\n",
    "\n",
    "geolocator = Nominatim(user_agent=\"weather-app\")\n",
    "\n",
    "class SearchInput(BaseModel):\n",
    "    location: str = Field(description=\"The city and the state,e.g. San Francisco, CA\")\n",
    "    date:str = Field(description=\"the forecating date for when to get the weather format(yyyy-mm-dd)\")\n",
    "\n",
    "\n",
    "@tool(\"get_weather_forecast\",args_schema=SearchInput, return_direct=True)\n",
    "def get_weather_forecast(location: str, date: str):\n",
    "    \"\"\"Retrieves the weather using Open-Meteo API for a given location (city) and a date (yyyy-mm-dd). Returns a list dictionary with the time and temperature for each hour.\"\"\"\n",
    "    location = geolocator.geocode(location)\n",
    "    if location:\n",
    "        try:\n",
    "            response = requests.get(f\"https://api.open-meteo.com/v1/forecast?latitude={location.latitude}&longitude={location.longitude}&hourly=temperature_2m&start_date={date}&end_date={date}\")         \n",
    "            data = response.json()\n",
    "            return "
   ]
  }
 ],
 "metadata": {
  "language_info": {
   "name": "python"
  }
 },
 "nbformat": 4,
 "nbformat_minor": 5
}
