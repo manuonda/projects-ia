{
 "cells": [
  {
   "cell_type": "code",
   "execution_count": null,
   "id": "bf02c93e",
   "metadata": {},
   "outputs": [],
   "source": [
    "#https://ai.google.dev/gemini-api/docs/langgraph-example?hl=es-419\n",
    "from typing import List, Tuple, TypedDict, Type, Annotated, Sequence\n",
    "from langchain_core.messages import BaseMessage\n",
    "from langgraph.graph.message import add_messages\n",
    "\n",
    "class AgentState(TypedDict):\n",
    "    \"\"\" State of the agent.\"\"\"\n",
    "    messages: Annotated[Sequence[BaseMessage], add_messages]\n",
    "    number_of_steps: int\n",
    "\n",
    "\n",
    "\n",
    "### tool    \n",
    "from langchain_core.tools import tool\n",
    "from geopy.geocodersominatim \n",
    "from pydntic import BaseModel, Field\n",
    "import requests\n",
    "\n",
    "geolocator = Nominatim(user_agent=\"weather-app\")\n",
    "\n",
    "class SearchInput(BaseModel):\n",
    "    location: str = Field(description=\"The city and the state,e.g. San Francisco, CA\")\n",
    "    date:str = Field(description=\"the forecating date for when to get the weather format(yyyy-mm-dd)\")\n",
    "\n",
    "\n",
    "@tool(\"get_weather_forecast\",args_schema=SearchInput, return_direct=True)\n",
    "def get_weather_forecast(location: str, date: str):\n",
    "    \"\"\"Retrieves the weather using Open-Meteo API for a given location (city) and a date (yyyy-mm-dd). Returns a list dictionary with the time and temperature for each hour.\"\"\"\n",
    "    location = geolocator.geocode(location)\n",
    "    if location:\n",
    "        try:\n",
    "            response = requests.get(f\"https://api.open-meteo.com/v1/forecast?latitude={location.latitude}&longitude={location.longitude}&hourly=temperature_2m&start_date={date}&end_date={date}\")         \n",
    "            data = response.json()\n",
    "            return {time: temp for time, temp in zip(data[\"hourly\"][\"time\"], data[\"hourly\"][\"temperature_2m\"])} \n",
    "        except Exception as e:\n",
    "            return {\"error\" :str(e)}\n",
    "    else:\n",
    "        return {\"error\": \"Location not found\"}\n",
    "    \n",
    "tools = [get_weather_forecast]\n"
   ]
  },
  {
   "cell_type": "code",
   "execution_count": null,
   "id": "940d8d06",
   "metadata": {},
   "outputs": [],
   "source": [
    "from langchain_openai import ChatOpenAI\n",
    "from dotenv import load_dotenv\n",
    "\n",
    "load_dotenv(\"./.env\")\n",
    "\n",
    "llm = ChatOpenAI( model =\"gpt-4o\")\n",
    "model = llm.bind_tools(tools)\n",
    "\n",
    "\n",
    "def model_call(state: AgentState, config:RunnableConfig,):\n",
    "    \"\"\" Agent call the model \"\"\"\n",
    "    #Invoke the model with the system prompt and the messages\n",
    "    response = model.invoke(state[\"messages\"],config)\n",
    "    #We return a list, because this will get added to the existing messages \n",
    "    #state using the add_messages reducer\n",
    "    return {\"messages\": [response]}\n",
    "\n",
    "de\n"
   ]
  }
 ],
 "metadata": {
  "language_info": {
   "name": "python"
  }
 },
 "nbformat": 4,
 "nbformat_minor": 5
}
