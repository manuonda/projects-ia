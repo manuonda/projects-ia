{
 "cells": [
  {
   "cell_type": "code",
   "execution_count": 4,
   "id": "3cac7e66",
   "metadata": {},
   "outputs": [],
   "source": [
    "from typing import Dict, TypedDict\n",
    "from langgraph.graph import StateGraph, START, END"
   ]
  },
  {
   "cell_type": "code",
   "execution_count": 5,
   "id": "6187f8e6",
   "metadata": {},
   "outputs": [],
   "source": [
    "class AgentState(TypedDict):\n",
    "    number1: int \n",
    "    operation: str\n",
    "    number2: int \n",
    "    finalNumber: int"
   ]
  },
  {
   "cell_type": "code",
   "execution_count": 7,
   "id": "89682293",
   "metadata": {},
   "outputs": [],
   "source": [
    "def adder(state: AgentState) -> AgentState:\n",
    "    \"\"\" This node add the 2 numbers \"\"\"\n",
    "    state['finalNumber'] = state['number1'] + state['number2']\n",
    "    return state\n",
    "\n",
    "\n",
    "def subtracor(state: AgentState) -> AgentState:\n",
    "    \"\"\" This node subtracts the 2 numbers \"\"\"\n",
    "    state['finalNumber'] = state['number1'] - state['number2']\n",
    "    return state\n",
    "\n",
    "def decide_next_node(state: AgentState) -> AgentState:\n",
    "    \"\"\" This node will select the next node of th graph \"\"\"\n",
    "    if state['operation'] == \"+\":\n",
    "       return \"addition_operation\"\n",
    "    \n",
    "    elif state['operation'] == \"-\":\n",
    "        return \"subtract_operation\"\n",
    "    "
   ]
  },
  {
   "cell_type": "code",
   "execution_count": 21,
   "id": "61d2fab6",
   "metadata": {},
   "outputs": [
    {
     "data": {
      "text/plain": [
       "<langgraph.graph.state.StateGraph at 0x7a52a5a5d5b0>"
      ]
     },
     "execution_count": 21,
     "metadata": {},
     "output_type": "execute_result"
    }
   ],
   "source": [
    "graph = StateGraph(AgentState)\n",
    "graph.add_node(\"add_node\",adder)\n",
    "graph.add_node(\"subtract_node\",subtracor)\n",
    "graph.add_node(\"router\", lambda state:state)\n",
    "\n",
    "graph.add_edge(START , \"router\")\n",
    "graph.add_conditional_edges(\n",
    "    \"router\",\n",
    "    decide_next_node,\n",
    "    {\n",
    "        \"addition_operation\":\"add_node\",\n",
    "        \"subtract_operation\":\"subtract_node\"\n",
    "    }\n",
    ")\n",
    "\n",
    "graph.add_edge(\"add_node\",END)\n",
    "graph.add_edge(\"subtract_node\",END)"
   ]
  },
  {
   "cell_type": "code",
   "execution_count": 22,
   "id": "d4f580df",
   "metadata": {},
   "outputs": [
    {
     "data": {
      "image/png": "[encoded data removed]",
      "text/plain": [
       "<IPython.core.display.Image object>"
      ]
     },
     "metadata": {},
     "output_type": "display_data"
    }
   ],
   "source": [
    "app  = graph.compile()\n",
    "\n",
    "from IPython.display import Image, display\n",
    "display(Image(app.get_graph().draw_mermaid_png()))\n",
    "\n"
   ]
  },
  {
   "cell_type": "code",
   "execution_count": 23,
   "id": "2e2dfb08",
   "metadata": {},
   "outputs": [
    {
     "name": "stdout",
     "output_type": "stream",
     "text": [
      "{'number1': 23, 'operation': '+', 'number2': 11, 'finalNumber': 34}\n"
     ]
    }
   ],
   "source": [
    "initial_state_1 = AgentState(number1=23,number2=11, operation= \"+\")\n",
    "print(app.invoke(initial_state_1))"
   ]
  },
  {
   "cell_type": "code",
   "execution_count": null,
   "id": "838474b8",
   "metadata": {},
   "outputs": [],
   "source": []
  }
 ],
 "metadata": {
  "kernelspec": {
   "display_name": "base",
   "language": "python",
   "name": "python3"
  },
  "language_info": {
   "codemirror_mode": {
    "name": "ipython",
    "version": 3
   },
   "file_extension": ".py",
   "mimetype": "text/x-python",
   "name": "python",
   "nbconvert_exporter": "python",
   "pygments_lexer": "ipython3",
   "version": "3.12.2"
  }
 },
 "nbformat": 4,
 "nbformat_minor": 5
}
