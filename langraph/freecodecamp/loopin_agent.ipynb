{
 "cells": [
  {
   "cell_type": "code",
   "execution_count": 3,
   "metadata": {},
   "outputs": [],
   "source": [
    "import random\n",
    "from typing import TypedDict , Dict, List\n",
    "from langgraph.graph import StateGraph, END\n"
   ]
  },
  {
   "cell_type": "code",
   "execution_count": 4,
   "metadata": {},
   "outputs": [],
   "source": [
    "class AgentState(TypedDict):\n",
    "    name: str\n",
    "    number: List[int]\n",
    "    counter: int"
   ]
  },
  {
   "cell_type": "code",
   "execution_count": null,
   "metadata": {},
   "outputs": [],
   "source": [
    "def greeting_node(state: AgentState) -> AgentState:\n",
    "    \"\"\" Greeting Node wich says hi to the person \"\"\"\n",
    "    state['name'] = f\"Hi ther ,{state['name']}\"\n",
    "    state['counter'] = 0\n",
    "    return state\n",
    "\n",
    "\n",
    "def random_node(state: AgentState) -> AgentState:\n",
    "    \"\"\" Generates a random number from 0 to 10\"\"\"\n",
    "    state['number'].append(random.randint(0,10))\n",
    "    state['counter'] +=1\n",
    "    return state\n",
    "\n",
    "\n",
    "def should_continue(state: AgentState) -> AgentState:\n",
    "    \"\"\" Function to decide what to do next\"\"\"\n",
    "    if state[\"counter\"] < 5:\n",
    "        print(\"ENTERING LOOP\", state[\"counter\"])\n",
    "        return \"loop\" #continue looping\n",
    "    else:\n",
    "        return \"exit\" #exit the loop"
   ]
  },
  {
   "cell_type": "code",
   "execution_count": null,
   "metadata": {},
   "outputs": [],
   "source": [
    "graph = StateGraph(AgentState)\n",
    "graph.add_node(\"greeting\", greeting_node)\n",
    "graph.add_node(\"random\", random_node)\n"
   ]
  }
 ],
 "metadata": {
  "kernelspec": {
   "display_name": "tutorial2",
   "language": "python",
   "name": "python3"
  },
  "language_info": {
   "codemirror_mode": {
    "name": "ipython",
    "version": 3
   },
   "file_extension": ".py",
   "mimetype": "text/x-python",
   "name": "python",
   "nbconvert_exporter": "python",
   "pygments_lexer": "ipython3",
   "version": "3.12.7"
  }
 },
 "nbformat": 4,
 "nbformat_minor": 2
}
