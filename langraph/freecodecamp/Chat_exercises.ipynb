{
 "cells": [
  {
   "cell_type": "code",
   "execution_count": null,
   "id": "eae04ae4",
   "metadata": {},
   "outputs": [],
   "source": [
    "from typing import TypedDict, Type, List, Union\n",
    "from langgraph.graph import StateGraph, START, END\n",
    "from langchain_core.messages import AIMessage, HumanMessage\n",
    "from langchain_openai import ChatOpenAI\n",
    "from dotenv import load_dotenv\n",
    "\n",
    "load_dotenv(\"./.env\")\n",
    "\n",
    "llm = ChatOpenAI(\n",
    "    model=\"gpt-4o\"\n",
    ")\n",
    "\n",
    "class AgentState(TypedDict):\n",
    "    messages: List[Union[HumanMessage, AIMessage]]\n",
    "\n",
    "\n",
    "def process(state: AgentState) -> AgentState:\n",
    "    \"\"\"\" Agent State process the state \"\"\"\n",
    "    response = llm.invoke(state[\"messages\"]) \n",
    "    print(f\"\\n Response Content : {response.content}\")\n",
    "    #response of ai\n",
    "    state[\"messages\"].append(AIMessage(response.content))\n",
    "    return state\n",
    "\n",
    "\n",
    "\n"
   ]
  },
  {
   "cell_type": "code",
   "execution_count": 15,
   "id": "48948808",
   "metadata": {},
   "outputs": [],
   "source": [
    "graph = StateGraph(AgentState)\n",
    "graph.add_node(\"process\", process)\n",
    "graph.add_edge(START, \"process\")\n",
    "graph.add_edge(\"process\", END)\n",
    "\n",
    "agent = graph.compile()\n",
    "\n"
   ]
  },
  {
   "cell_type": "code",
   "execution_count": 16,
   "id": "c84e7b36",
   "metadata": {},
   "outputs": [
    {
     "name": "stdout",
     "output_type": "stream",
     "text": [
      "\n",
      " Response Content : ¡Hola David! ¿Cómo estás? ¿En qué puedo ayudarte hoy?\n",
      "\n",
      " Response Content : Lo siento, no tengo acceso a información personal o detalles sobre ti, por lo que no sé cuál es tu nombre.\n"
     ]
    }
   ],
   "source": [
    "user_input = input(\"Enter: \")\n",
    "while user_input != \"exit\":\n",
    "   agent.invoke({\"messages\": [HumanMessage(content=user_input)]})\n",
    "   user_input = input(\"Enter:\")"
   ]
  }
 ],
 "metadata": {
  "kernelspec": {
   "display_name": "base",
   "language": "python",
   "name": "python3"
  },
  "language_info": {
   "codemirror_mode": {
    "name": "ipython",
    "version": 3
   },
   "file_extension": ".py",
   "mimetype": "text/x-python",
   "name": "python",
   "nbconvert_exporter": "python",
   "pygments_lexer": "ipython3",
   "version": "3.12.2"
  }
 },
 "nbformat": 4,
 "nbformat_minor": 5
}
