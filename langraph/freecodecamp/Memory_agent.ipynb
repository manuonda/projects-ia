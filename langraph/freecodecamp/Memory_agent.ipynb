{
 "cells": [
  {
   "cell_type": "code",
   "execution_count": null,
   "id": "cbe18050",
   "metadata": {},
   "outputs": [],
   "source": [
    "import os\n",
    "from typing import List, TypedDict\n",
    "from langgraph.graph import StateGraph, STATE, END\n",
    "from langchain_openai import ChatOpenAI \n",
    "from langchain_core.messages import HumanMessage, AIMessage\n",
    "from dotenv import load_dotenv\n",
    "\n",
    "load_dotenv(\"./.env\")\n",
    "\n",
    "class AgentState(TypedDict):\n",
    "    \"\"\" state of the agent.\"\"\"\n",
    "    messages: List[HumanMessage]"
   ]
  }
 ],
 "metadata": {
  "language_info": {
   "name": "python"
  }
 },
 "nbformat": 4,
 "nbformat_minor": 5
}
