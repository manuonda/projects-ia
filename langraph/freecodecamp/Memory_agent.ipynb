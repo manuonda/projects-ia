{
 "cells": [
  {
   "cell_type": "code",
   "execution_count": 9,
   "id": "cbe18050",
   "metadata": {},
   "outputs": [],
   "source": [
    "import os\n",
    "from typing import List, TypedDict,Union\n",
    "from langgraph.graph import StateGraph, START, END\n",
    "from langchain_openai import ChatOpenAI \n",
    "from langchain_core.messages import HumanMessage, AIMessage\n",
    "from dotenv import load_dotenv\n",
    "\n",
    "load_dotenv(\"./.env\")\n",
    "\n",
    "class AgentState(TypedDict):\n",
    "    \"\"\" state of the agent.\"\"\"\n",
    "    messages: List[Union[HumanMessage, AIMessage]]\n",
    "\n",
    "\n",
    "llm = ChatOpenAI(\n",
    "    model=\"gpt-4o\",\n",
    "    temperature=0.1\n",
    ")\n",
    "\n",
    "def process(state: AgentState) -> AgentState:\n",
    "    \"\"\" This node will solve the request you input\"\"\" \n",
    "    response = llm.invoke(state[\"messages\"])\n",
    "    state[\"messages\"].append(AIMessage(content=response.content))\n",
    "    print(f\"\\n Response Content AI {response.content}\")\n",
    "    print(\"\\n CURRENT STATE\" , state[\"messages\"])\n",
    "    return state\n",
    "\n",
    "\n",
    "graph = StateGraph(AgentState)\n",
    "graph.add_node(\"process\", process)\n",
    "graph.add_edge(START, \"process\")\n",
    "graph.add_edge(\"process\", END)\n",
    "agent = graph.compile()\n"
   ]
  },
  {
   "cell_type": "code",
   "execution_count": 12,
   "id": "a6516108",
   "metadata": {},
   "outputs": [
    {
     "name": "stdout",
     "output_type": "stream",
     "text": [
      "\n",
      " Response Content AI ¡Hola, David! ¿En qué puedo ayudarte hoy?\n",
      "\n",
      " CURRENT STATE [HumanMessage(content='Hol mi nombre es David tengo 40 años', additional_kwargs={}, response_metadata={}), AIMessage(content='¡Hola, David! ¿En qué puedo ayudarte hoy?', additional_kwargs={}, response_metadata={})]\n",
      "[HumanMessage(content='Hol mi nombre es David tengo 40 años', additional_kwargs={}, response_metadata={}), AIMessage(content='¡Hola, David! ¿En qué puedo ayudarte hoy?', additional_kwargs={}, response_metadata={})]\n",
      "\n",
      " Response Content AI Tu nombre es David. ¿Hay algo más en lo que pueda asistirte?\n",
      "\n",
      " CURRENT STATE [HumanMessage(content='Hol mi nombre es David tengo 40 años', additional_kwargs={}, response_metadata={}), AIMessage(content='¡Hola, David! ¿En qué puedo ayudarte hoy?', additional_kwargs={}, response_metadata={}), HumanMessage(content='Cual es mi nombre', additional_kwargs={}, response_metadata={}), AIMessage(content='Tu nombre es David. ¿Hay algo más en lo que pueda asistirte?', additional_kwargs={}, response_metadata={})]\n",
      "[HumanMessage(content='Hol mi nombre es David tengo 40 años', additional_kwargs={}, response_metadata={}), AIMessage(content='¡Hola, David! ¿En qué puedo ayudarte hoy?', additional_kwargs={}, response_metadata={}), HumanMessage(content='Cual es mi nombre', additional_kwargs={}, response_metadata={}), AIMessage(content='Tu nombre es David. ¿Hay algo más en lo que pueda asistirte?', additional_kwargs={}, response_metadata={})]\n",
      "\n",
      " Response Content AI Tienes 40 años. Si necesitas algo más, no dudes en decírmelo.\n",
      "\n",
      " CURRENT STATE [HumanMessage(content='Hol mi nombre es David tengo 40 años', additional_kwargs={}, response_metadata={}), AIMessage(content='¡Hola, David! ¿En qué puedo ayudarte hoy?', additional_kwargs={}, response_metadata={}), HumanMessage(content='Cual es mi nombre', additional_kwargs={}, response_metadata={}), AIMessage(content='Tu nombre es David. ¿Hay algo más en lo que pueda asistirte?', additional_kwargs={}, response_metadata={}), HumanMessage(content='cuantos añostengo', additional_kwargs={}, response_metadata={}), AIMessage(content='Tienes 40 años. Si necesitas algo más, no dudes en decírmelo.', additional_kwargs={}, response_metadata={})]\n",
      "[HumanMessage(content='Hol mi nombre es David tengo 40 años', additional_kwargs={}, response_metadata={}), AIMessage(content='¡Hola, David! ¿En qué puedo ayudarte hoy?', additional_kwargs={}, response_metadata={}), HumanMessage(content='Cual es mi nombre', additional_kwargs={}, response_metadata={}), AIMessage(content='Tu nombre es David. ¿Hay algo más en lo que pueda asistirte?', additional_kwargs={}, response_metadata={}), HumanMessage(content='cuantos añostengo', additional_kwargs={}, response_metadata={}), AIMessage(content='Tienes 40 años. Si necesitas algo más, no dudes en decírmelo.', additional_kwargs={}, response_metadata={})]\n",
      "Conversation saved to loggint txt\n",
      "\n"
     ]
    }
   ],
   "source": [
    "conversation_history = []\n",
    "user_input = input(\"Enter: \")\n",
    "while user_input != \"Exit\":\n",
    "    #add message to history array\n",
    "    conversation_history.append(HumanMessage(content=user_input))\n",
    "    result = agent.invoke({\"messages\": conversation_history})\n",
    "    print(result[\"messages\"])\n",
    "    conversation_history = result[\"messages\"]\n",
    "    user_input = input(\"Enter: \")\n",
    "\n",
    "\n",
    "with open(\"loggint.txt\", \"w\") as file:\n",
    "    file.write(\"Your conversation log: \\n\")\n",
    "\n",
    "    for message in conversation_history:\n",
    "        if isinstance(message, HumanMessage):\n",
    "            file.write(f\"You: {message.content}\\n\")\n",
    "        elif isinstance(message, AIMessage):\n",
    "            file.write(f\"AI: {message.content}\\n\")\n",
    "    \n",
    "    file.write(\"End of conversation\")\n",
    "\n",
    "print(\"Conversation saved to loggint txt\\n\")"
   ]
  },
  {
   "cell_type": "code",
   "execution_count": null,
   "id": "af551c78",
   "metadata": {},
   "outputs": [],
   "source": []
  }
 ],
 "metadata": {
  "kernelspec": {
   "display_name": "base",
   "language": "python",
   "name": "python3"
  },
  "language_info": {
   "codemirror_mode": {
    "name": "ipython",
    "version": 3
   },
   "file_extension": ".py",
   "mimetype": "text/x-python",
   "name": "python",
   "nbconvert_exporter": "python",
   "pygments_lexer": "ipython3",
   "version": "3.12.2"
  }
 },
 "nbformat": 4,
 "nbformat_minor": 5
}
