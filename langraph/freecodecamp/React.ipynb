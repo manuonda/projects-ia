{
 "cells": [
  {
   "cell_type": "code",
   "execution_count": null,
   "id": "07327fc8",
   "metadata": {},
   "outputs": [],
   "source": [
    "from typing import Sequence, Annotated, TypedDict\n",
    "from dotenv import load_dotenv\n",
    "from langchain_core.messages import BaseMessage\n",
    "from langchain_core.messages import ToolMessage\n",
    "from langchain_core.messages import SystemMessage\n"
   ]
  }
 ],
 "metadata": {
  "language_info": {
   "name": "python"
  }
 },
 "nbformat": 4,
 "nbformat_minor": 5
}
