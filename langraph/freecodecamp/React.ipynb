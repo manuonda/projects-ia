{
 "cells": [
  {
   "cell_type": "code",
   "execution_count": 17,
   "id": "07327fc8",
   "metadata": {},
   "outputs": [
    {
     "data": {
      "text/plain": [
       "True"
      ]
     },
     "execution_count": 17,
     "metadata": {},
     "output_type": "execute_result"
    }
   ],
   "source": [
    "from typing import Sequence, Annotated, TypedDict\n",
    "from dotenv import load_dotenv\n",
    "#the foundational class for all messag type sin langgraph\n",
    "from langchain_core.messages import BaseMessage \n",
    "from langchain_core.messages import ToolMessage\n",
    "#Message for providing instructions to the LLM \n",
    "from langchain_core.messages import SystemMessage\n",
    "from langchain_openai import ChatOpenAI\n",
    "from langchain_core.tools import tool\n",
    "from langgraph.graph import StateGraph, START, END\n",
    "from langgraph.graph.message import add_messages\n",
    "from langgraph.prebuilt import ToolNode\n",
    "\n",
    "load_dotenv(\"./.env\")\n",
    "\n"
   ]
  },
  {
   "cell_type": "code",
   "execution_count": 33,
   "id": "c53f3e04",
   "metadata": {},
   "outputs": [],
   "source": [
    "\"\"\"\n",
    "`Annotated` es una herramienta del módulo `typing` de \n",
    "Python que te permite añadir metadatos o información extra \n",
    "a las pistas de tipo (type hints).\n",
    "\n",
    "Piensa en ello como una forma de poner una \"nota\" en una variable \n",
    "para que otras herramientas o librerías sepan cómo tratarla de \n",
    "una manera especial.\n",
    "\n",
    "En tu código:\n",
    "\n",
    "```python\n",
    "messages: Annotated[Sequence[BaseMessage], add_messages]\n",
    "```\n",
    "\n",
    "1.  **`Sequence[BaseMessage]`**: Esta es la pista de tipo normal. \n",
    "Le dice a Python que `messages` debe ser una secuencia (como una lista) \n",
    "de objetos `BaseMessage`.\n",
    "2.  **`add_messages`**: Esta es la \"nota\" o la anotación. \n",
    "Es una función especial de LangGraph. \n",
    "Al añadirla aquí, le estás diciendo a tu grafo: \n",
    "\"Cuando un nodo devuelva un valor para `messages`, \n",
    "no reemplaces el valor antiguo. \n",
    "En su lugar, **añade** los nuevos mensajes a la lista existente\".\n",
    "\n",
    "En resumen, `Annotated` se usa aquí para instruir a LangGraph \n",
    "a que **acumule** los mensajes en el estado en lugar \n",
    "de sobrescribirlos en cada paso, lo cual es fundamental \n",
    "para que el agente recuerde el historial de la conversación.\n",
    "\n",
    "\n",
    "\"\"\"\n",
    "\n",
    "class AgentState(TypedDict):\n",
    "    #historial de messages de forma acumulativa\n",
    "    #Anottated Añadir metadatos o informacion extra a las pistas\n",
    "    # de tipo\n",
    "    #Sequence: type de \n",
    "    messages: Annotated[Sequence[BaseMessage], add_messages]\n",
    "\n",
    "\n",
    "\n",
    "@tool\n",
    "def add(a: int , b:int):\n",
    "    \"\"\" This is an addition function that adds 2 numbers together\"\"\"\n",
    "    return a+b\n",
    "\n",
    "@tool\n",
    "def multiply(a: int , b:int):\n",
    "    \"\"\" this is an multiply function that multiply 2 numbers together\"\"\"\n",
    "    return a*b\n",
    "\n",
    "tools = [add, multiply]\n",
    "model = ChatOpenAI(model= \"gpt-4o\")\n",
    "\n",
    "\n",
    "def model_call(state: AgentState) -> AgentState:\n",
    "    \"\"\" Eres un agente que obtiene la informacion\"\"\"\n",
    "    system_prompt = SystemMessage(\n",
    "        \"You are my AI assistant, please answer my query to the best  of your ability\"\n",
    "    )\n",
    "    print(f\"\\n model_call ->  state[messages] : {state['messages']}\")\n",
    "    response = model.invoke([system_prompt] + state[\"messages\"])\n",
    "    return {\"messages\": [response]}\n",
    "\n",
    "\n",
    "def should_continue(state: AgentState):\n",
    "    messages = state[\"messages\"]\n",
    "    last_message = messages[-1]\n",
    "    print(f\"\\n should_continue -> last_message : {last_message}\")\n",
    "    if not last_message.tool_calls:\n",
    "        return \"end\"\n",
    "    else:\n",
    "        return \"continue\"\n",
    "    \n"
   ]
  },
  {
   "cell_type": "code",
   "execution_count": 34,
   "id": "168be690",
   "metadata": {},
   "outputs": [],
   "source": [
    "tool_node = ToolNode(tools=tools)\n",
    "graph = StateGraph(AgentState)\n",
    "graph.add_node(\"our_agent\", model_call)\n",
    "graph.add_node(\"tools\", tool_node)\n",
    "graph.add_edge(START,\"our_agent\")\n",
    "graph.add_conditional_edges(\n",
    "    \"our_agent\",\n",
    "    should_continue,\n",
    "    {\n",
    "     \"continue\": \"tools\",\n",
    "     \"end\": END,\n",
    "    }\n",
    ")\n",
    "graph.add_edge(\"tools\",\"our_agent\")\n",
    "\n",
    "app = graph.compile()\n"
   ]
  },
  {
   "cell_type": "code",
   "execution_count": 35,
   "id": "431e8d32",
   "metadata": {},
   "outputs": [
    {
     "data": {
      "image/png": "[encoded data removed]",
      "text/plain": [
       "<IPython.core.display.Image object>"
      ]
     },
     "metadata": {},
     "output_type": "display_data"
    }
   ],
   "source": [
    "\n",
    "from IPython.display import Image, display\n",
    "display(Image(app.get_graph().draw_mermaid_png()))"
   ]
  },
  {
   "cell_type": "code",
   "execution_count": null,
   "id": "938acc6b",
   "metadata": {},
   "outputs": [
    {
     "name": "stdout",
     "output_type": "stream",
     "text": [
      "================================\u001b[1m Human Message \u001b[0m=================================\n",
      "\n",
      "Add 3  *  4\n",
      "\n",
      " model_call ->  state[messages] : [HumanMessage(content='Add 3  *  4', additional_kwargs={}, response_metadata={}, id='1ecd9fa9-65d3-4a35-8493-c0cf4a34e163')]\n",
      "\n",
      " should_continue -> last_message : content='The expression \\\\( 3 \\\\times 4 \\\\) equals 12. If you meant to add the result of this multiplication to something else, please provide the additional details.' additional_kwargs={'refusal': None} response_metadata={'token_usage': {'completion_tokens': 35, 'prompt_tokens': 36, 'total_tokens': 71, 'completion_tokens_details': {'accepted_prediction_tokens': 0, 'audio_tokens': 0, 'reasoning_tokens': 0, 'rejected_prediction_tokens': 0}, 'prompt_tokens_details': {'audio_tokens': 0, 'cached_tokens': 0}}, 'model_name': 'gpt-4o-2024-08-06', 'system_fingerprint': 'fp_a288987b44', 'finish_reason': 'stop', 'logprobs': None} id='run-158ae0d3-a655-4cdd-ad01-6f9404237727-0' usage_metadata={'input_tokens': 36, 'output_tokens': 35, 'total_tokens': 71, 'input_token_details': {'audio': 0, 'cache_read': 0}, 'output_token_details': {'audio': 0, 'reasoning': 0}}\n",
      "==================================\u001b[1m Ai Message \u001b[0m==================================\n",
      "\n",
      "The expression \\( 3 \\times 4 \\) equals 12. If you meant to add the result of this multiplication to something else, please provide the additional details.\n",
      "================================\u001b[1m Human Message \u001b[0m=================================\n",
      "\n",
      "Add 3  *  4\n",
      "\n",
      " model_call ->  state[messages] : [HumanMessage(content='Add 3  *  4', additional_kwargs={}, response_metadata={}, id='1c217dc3-6224-430b-bfcf-adecd769e0c0')]\n",
      "\n",
      " should_continue -> last_message : content='The expression \\\\(3 \\\\times 4\\\\) equals 12.' additional_kwargs={'refusal': None} response_metadata={'token_usage': {'completion_tokens': 14, 'prompt_tokens': 36, 'total_tokens': 50, 'completion_tokens_details': {'accepted_prediction_tokens': 0, 'audio_tokens': 0, 'reasoning_tokens': 0, 'rejected_prediction_tokens': 0}, 'prompt_tokens_details': {'audio_tokens': 0, 'cached_tokens': 0}}, 'model_name': 'gpt-4o-2024-08-06', 'system_fingerprint': 'fp_a288987b44', 'finish_reason': 'stop', 'logprobs': None} id='run-934587b4-d259-454c-b04f-3029f4df6f51-0' usage_metadata={'input_tokens': 36, 'output_tokens': 14, 'total_tokens': 50, 'input_token_details': {'audio': 0, 'cache_read': 0}, 'output_token_details': {'audio': 0, 'reasoning': 0}}\n",
      "==================================\u001b[1m Ai Message \u001b[0m==================================\n",
      "\n",
      "The expression \\(3 \\times 4\\) equals 12.\n"
     ]
    }
   ],
   "source": [
    "from langchain_core.messages import AIMessage, ToolMessage, HumanMessage\n",
    "\n",
    "def print_stream(stream):\n",
    "    \"\"\"\n",
    "    Imprime el stream de ejecución del grafo de LangGraph de forma clara.\n",
    "    Muestra el nodo que se ejecuta, las llamadas a herramientas, los resultados\n",
    "    y la respuesta final del agente.\n",
    "    \"\"\"\n",
    "    for s in stream:\n",
    "        # El stream devuelve un diccionario donde la clave es el nombre del nodo\n",
    "        # y el valor es el estado actualizado.\n",
    "        node_name = list(s.keys())[0]\n",
    "        state_update = s[node_name]\n",
    "        \n",
    "        # Obtenemos el último mensaje añadido al estado\n",
    "        last_message = state_update[\"messages\"][-1]\n",
    "\n",
    "        print(f\"--- Nodo Ejecutado: '{node_name}' ---\")\n",
    "\n",
    "        # Usamos pretty_print() que ya formatea bien los mensajes de LangChain\n",
    "        last_message.pretty_print()\n",
    "        \n",
    "        print(\"--------------------------------------\\n\")\n",
    "\n",
    "\n",
    "# Probamos con una pregunta que requiere la herramienta de multiplicar\n",
    "inputs = {\"messages\" : [(\"user\", \"cuanto es 3 multiplicado por 4?\")]}\n",
    "print_stream(app.stream(inputs, stream_mode=\"values\"))"
   ]
  }
 ],
 "metadata": {
  "kernelspec": {
   "display_name": "base",
   "language": "python",
   "name": "python3"
  },
  "language_info": {
   "codemirror_mode": {
    "name": "ipython",
    "version": 3
   },
   "file_extension": ".py",
   "mimetype": "text/x-python",
   "name": "python",
   "nbconvert_exporter": "python",
   "pygments_lexer": "ipython3",
   "version": "3.12.2"
  }
 },
 "nbformat": 4,
 "nbformat_minor": 5
}
