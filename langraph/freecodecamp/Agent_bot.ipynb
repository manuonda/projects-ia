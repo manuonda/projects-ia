{
 "cells": [
  {
   "cell_type": "code",
   "execution_count": 2,
   "id": "62a8b4be",
   "metadata": {},
   "outputs": [
    {
     "name": "stdout",
     "output_type": "stream",
     "text": [
      "\n",
      "AI Claro, aquí tienes una breve descripción de algunos personajes principales de \"Bleach\" en inglés y español:\n",
      "\n",
      "1. **Ichigo Kurosaki**\n",
      "   - **Inglés**: Ichigo is the main protagonist of \"Bleach.\" He is a high school student who becomes a Soul Reaper, tasked with defending humans from evil spirits and guiding deceased souls to the afterlife.\n",
      "   - **Español**: Ichigo es el protagonista principal de \"Bleach\". Es un estudiante de secundaria que se convierte en un Segador de Almas, encargado de defender a los humanos de los espíritus malignos y guiar a las almas fallecidas al más allá.\n",
      "\n",
      "2. **Rukia Kuchiki**\n",
      "   - **Inglés**: Rukia is a Soul Reaper who initially transfers her powers to Ichigo. She is noble and strong-willed, and she plays a crucial role in introducing Ichigo to the world of Soul Reapers.\n",
      "   - **Español**: Rukia es una Segadora de Almas que inicialmente transfiere sus poderes a Ichigo. Es noble y decidida, y desempeña un papel crucial al introducir a Ichigo en el mundo de los Segadores de Almas.\n",
      "\n",
      "3. **Orihime Inoue**\n",
      "   - **Inglés**: Orihime is a classmate of Ichigo with a kind heart and a unique spiritual power that allows her to heal injuries and reject events. She is compassionate and deeply cares for her friends.\n",
      "   - **Español**: Orihime es una compañera de clase de Ichigo con un corazón amable y un poder espiritual único que le permite curar heridas y rechazar eventos. Es compasiva y se preocupa profundamente por sus amigos.\n",
      "\n",
      "4. **Uryu Ishida**\n",
      "   - **Inglés**: Uryu is a Quincy, a human with the ability to fight Hollows. He is intelligent, skilled with a bow, and initially sees Ichigo as a rival, though they eventually become allies.\n",
      "   - **Español**: Uryu es un Quincy, un humano con la habilidad de luchar contra los Hollows. Es inteligente, hábil con el arco, e inicialmente ve a Ichigo como un rival, aunque eventualmente se convierten en aliados.\n",
      "\n",
      "5. **Renji Abarai**\n",
      "   - **Inglés**: Renji is a Soul Reaper and Rukia's childhood friend. He is ambitious and determined, often serving as both a rival and ally to Ichigo throughout the series.\n",
      "   - **Español**: Renji es un Segador de Almas y amigo de la infancia de Rukia. Es ambicioso y decidido, y a menudo actúa como rival y aliado de Ichigo a lo largo de la serie.\n",
      "\n",
      "Estos son solo algunos de los personajes principales de \"Bleach,\" cada uno con su propio papel y desarrollo en la historia.\n",
      "\n"
     ]
    }
   ],
   "source": [
    "from typing import List, TypedDict\n",
    "from langchain_core.messages import HumanMessage\n",
    "from langchain_openai import ChatOpenAI\n",
    "from langgraph.graph import StateGraph, START, END\n",
    "from dotenv import load_dotenv\n",
    "\n",
    "load_dotenv(\"./.env\")\n",
    "\n",
    "class AgentState(TypedDict):\n",
    "    \"\"\" State of the agent.\"\"\"\n",
    "    messages: List[HumanMessage]\n",
    " \n",
    "def process(state: AgentState) -> AgentState:\n",
    "     \"\"\" Process the state and return it. \"\"\"\n",
    "     response = llm.invoke(state[\"messages\"])\n",
    "     print(f\"\\nAI {response.content}\\n\")\n",
    "     return state\n",
    " \n",
    "     \n",
    "    \n",
    "llm = ChatOpenAI(\n",
    "    model=\"gpt-4o\",\n",
    "    temperature=0.0,\n",
    "    max_tokens=1000,\n",
    ")\n",
    "\n",
    "\n",
    "graph = StateGraph(AgentState)\n",
    "graph.add_node(\"process\", process)\n",
    "graph.add_edge(START, \"process\")\n",
    "graph.add_edge(\"process\", END)\n",
    "\n",
    "agent = graph.compile()\n",
    "user_input = input(\"Enter:\")\n",
    "while user_input != \"exit\":\n",
    "  agent.invoke({\"messages\" : [HumanMessage(content=user_input)]})\n",
    "  user_input = input(\"Enter:\")"
   ]
  }
 ],
 "metadata": {
  "kernelspec": {
   "display_name": ".venv",
   "language": "python",
   "name": "python3"
  },
  "language_info": {
   "codemirror_mode": {
    "name": "ipython",
    "version": 3
   },
   "file_extension": ".py",
   "mimetype": "text/x-python",
   "name": "python",
   "nbconvert_exporter": "python",
   "pygments_lexer": "ipython3",
   "version": "3.12.7"
  }
 },
 "nbformat": 4,
 "nbformat_minor": 5
}
