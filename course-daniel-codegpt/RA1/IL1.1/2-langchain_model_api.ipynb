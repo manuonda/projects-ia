{
 "cells": [
  {
   "cell_type": "markdown",
   "id": "c50e1b28",
   "metadata": {},
   "source": [
    "# 2. Langchain Model Api - Abstraccion y Framework "
   ]
  },
  {
   "cell_type": "code",
   "execution_count": 4,
   "id": "e6dad8a4",
   "metadata": {},
   "outputs": [
    {
     "name": "stdout",
     "output_type": "stream",
     "text": [
      "Lnagchain  version: 0.3.18\n"
     ]
    }
   ],
   "source": [
    "\n",
    "\n",
    "from langchain_openai import ChatOpenAI\n",
    "from langchain.schema import HumanMessage, AIMessage, SystemMessage\n",
    "import langchain\n",
    "import langchain_openai\n",
    "import os\n",
    "from dotenv import load_dotenv\n",
    "\n",
    "load_dotenv(\"../../.env\")\n",
    "\n",
    "try:\n",
    "    import langchain\n",
    "    print(f\"Lnagchain  version: {langchain.__version__}\")\n",
    "except ImportError:\n",
    "    print(\"Lanchain no esta instalado\")\n",
    "\n",
    "\n",
    "\n"
   ]
  },
  {
   "cell_type": "code",
   "execution_count": 5,
   "id": "aae26e78",
   "metadata": {},
   "outputs": [
    {
     "name": "stdout",
     "output_type": "stream",
     "text": [
      "Modelo de Langchain configurado correctamente\n",
      "Modelo: gpt-4o\n",
      "Temperature: 0.7\n",
      "Max Tokens : 150\n"
     ]
    }
   ],
   "source": [
    "#Configuracion del model de Langchain con GithuModels \n",
    "#print(os.getenv(\"GITHUB_BASE_URL\"))\n",
    "#print(os.getenv(\"GITHUB_TOKEN\"))\n",
    "try:\n",
    "     llm = ChatOpenAI(\n",
    "          base_url=os.getenv(\"GITHUB_BASE_URL\"),\n",
    "          api_key=os.getenv(\"GITHUB_TOKEN\"),\n",
    "          model=\"gpt-4o\",\n",
    "          temperature=0.7,\n",
    "          max_tokens=150\n",
    "     )\n",
    "\n",
    "     print(\"Modelo de Langchain configurado correctamente\")\n",
    "     print(f\"Modelo: {llm.model_name}\")\n",
    "     print(f\"Temperature: {llm.temperature}\")\n",
    "     print(f\"Max Tokens : {llm.max_tokens}\")\n",
    "except Exception as e:\n",
    "     print(f\"Error de configuracion {e}\")\n",
    "     print(\"Verifica las variables de entorno OPENAI_BASE_URL y GITHUB_TOKEN\")"
   ]
  },
  {
   "cell_type": "code",
   "execution_count": 6,
   "id": "bdf81385",
   "metadata": {},
   "outputs": [
    {
     "name": "stdout",
     "output_type": "stream",
     "text": [
      "===Respuesta Basica ====\n",
      "¡Hola! Estoy aquí y listo para ayudarte. 😊 ¿Cómo estás tú? ¿En qué puedo asistirte hoy?\n",
      "Tipo de Respuesta: <class 'langchain_core.messages.ai.AIMessage'>\n"
     ]
    }
   ],
   "source": [
    "def ejemplo_basico():\n",
    "    try:\n",
    "       # Usar Humman Message(equivalente a \"user\" en OpenAI)\n",
    "       response = llm.invoke([HumanMessage(content=\"Hola , como estas?\")]) \n",
    "       print(\"===Respuesta Basica ====\")\n",
    "       print(response.content)\n",
    "       print(f\"Tipo de Respuesta: {type(response)}\")\n",
    "    except Exception as ex:\n",
    "       print(f\"Error {ex}\") \n",
    "\n",
    "ejemplo_basico()"
   ]
  }
 ],
 "metadata": {
  "kernelspec": {
   "display_name": "langchain",
   "language": "python",
   "name": "python3"
  },
  "language_info": {
   "codemirror_mode": {
    "name": "ipython",
    "version": 3
   },
   "file_extension": ".py",
   "mimetype": "text/x-python",
   "name": "python",
   "nbconvert_exporter": "python",
   "pygments_lexer": "ipython3",
   "version": "3.11.11"
  }
 },
 "nbformat": 4,
 "nbformat_minor": 5
}
