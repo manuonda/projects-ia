{
 "cells": [
  {
   "cell_type": "markdown",
   "id": "c50e1b28",
   "metadata": {},
   "source": [
    "# 2. Langchain Model Api - Abstraccion y Framework "
   ]
  },
  {
   "cell_type": "code",
   "execution_count": null,
   "id": "e6dad8a4",
   "metadata": {},
   "outputs": [
    {
     "name": "stdout",
     "output_type": "stream",
     "text": [
      "Lnagchain  version: 0.3.27\n"
     ]
    }
   ],
   "source": [
    "\n",
    "\n",
    "from langchain_openai import ChatOpenAI\n",
    "from langchain.schema import HumanMessage, AIMessage, SystemMessage\n",
    "import langchain\n",
    "import langchain_openai\n",
    "import os\n",
    "from dotenv import load_dotenv\n",
    "\n",
    "load_dotenv(\"../../.env\")\n",
    "\n",
    "try:\n",
    "    import langchain\n",
    "    print(f\"Lnagchain  version: {langchain.__version__}\")\n",
    "except ImportError:\n",
    "    print(\"Lanchain no esta instalado\")\n",
    "\n",
    "\n",
    "\n"
   ]
  },
  {
   "cell_type": "code",
   "execution_count": 30,
   "id": "aae26e78",
   "metadata": {},
   "outputs": [
    {
     "name": "stdout",
     "output_type": "stream",
     "text": [
      "None\n",
      "None\n",
      "Error de configuracion The api_key client option must be set either by passing api_key to the client or by setting the OPENAI_API_KEY environment variable\n",
      "Verifica las variables de entorno OPENAI_BASE_URL y GITHUB_TOKEN\n"
     ]
    }
   ],
   "source": [
    "#Configuracion del model de Langchain con GithuModels \n",
    "print(os.getenv(\"GITHUB_BASE_URL\"))\n",
    "print(os.getenv(\"GITHUB_TOKEN\"))\n",
    "try:\n",
    "     llm = ChatOpenAI(\n",
    "          base_url=os.getenv(\"GITHUB_BASE_URL\"),\n",
    "          api_key=os.getenv(\"GITHUB_TOKEN\"),\n",
    "          model=\"gpt-4o\",\n",
    "          temperature=0.7,\n",
    "          max_tokens=150\n",
    "     )\n",
    "\n",
    "     print(\"Modelo de Langchain configurado correctamente\")\n",
    "     print(f\"Modelo: {llm.model_name}\")\n",
    "     print(f\"Temperature: {llm.temperature}\")\n",
    "     print(f\"Max Tokens : {llm.max_tokens}\")\n",
    "except Exception as e:\n",
    "     print(f\"Error de configuracion {e}\")\n",
    "     print(\"Verifica las variables de entorno OPENAI_BASE_URL y GITHUB_TOKEN\")"
   ]
  }
 ],
 "metadata": {
  "kernelspec": {
   "display_name": "Python 3",
   "language": "python",
   "name": "python3"
  },
  "language_info": {
   "codemirror_mode": {
    "name": "ipython",
    "version": 3
   },
   "file_extension": ".py",
   "mimetype": "text/x-python",
   "name": "python",
   "nbconvert_exporter": "python",
   "pygments_lexer": "ipython3",
   "version": "3.10.16"
  }
 },
 "nbformat": 4,
 "nbformat_minor": 5
}
