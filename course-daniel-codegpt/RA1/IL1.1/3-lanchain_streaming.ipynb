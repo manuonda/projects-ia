{
 "cells": [
  {
   "cell_type": "markdown",
   "id": "009efa75",
   "metadata": {},
   "source": [
    "3 - Langchain Streaming - Respuestas en tiempo real\n",
    "¿Qué es el streaming?\n",
    "El streaming es una técnica que permite transmitir datos de manera continua y en tiempo real, lo que significa que los usuarios pueden recibir información a medida que se genera, sin necesidad de esperar a que todo el contenido esté disponible. En el contexto de las aplicaciones de lenguaje natural y modelos de inteligencia artificial, el streaming permite que las respuestas se entreguen gradualmente, mejorando la experiencia del usuario al reducir la latencia y hacer que las interacciones sean más fluidas."
   ]
  },
  {
   "cell_type": "code",
   "execution_count": 2,
   "id": "ede42ba1",
   "metadata": {},
   "outputs": [
    {
     "name": "stdout",
     "output_type": "stream",
     "text": [
      "Bibliotecas importadas correctamente para el streaming.  \n"
     ]
    }
   ],
   "source": [
    "from langchain_openai import ChatOpenAI\n",
    "from langchain.schema import HumanMessage\n",
    "import os \n",
    "import time\n",
    "from dotenv import load_dotenv\n",
    "\n",
    "load_dotenv(\"../../.env\")\n",
    "\n",
    "print(\"Bibliotecas importadas correctamente para el streaming.  \")\n"
   ]
  },
  {
   "cell_type": "code",
   "execution_count": 4,
   "id": "61d46b20",
   "metadata": {},
   "outputs": [
    {
     "name": "stdout",
     "output_type": "stream",
     "text": [
      "Iniciando el modelo de lenguaje con streaming...\n",
      "Error al iniciar el modelo de lenguaje: The api_key client option must be set either by passing api_key to the client or by setting the OPENAI_API_KEY environment variable\n"
     ]
    }
   ],
   "source": [
    "try:\n",
    "    print(\"Iniciando el modelo de lenguaje con streaming...\")\n",
    "    llm = ChatOpenAI(\n",
    "        model=\"gpt-3.5-turbo\",\n",
    "        temperature=0.2,\n",
    "        streaming=True\n",
    "    )\n",
    "    \n",
    "    print(\"Modelo de lenguaje iniciado con streaming.\")\n",
    "    \n",
    "except Exception as e:\n",
    "    print(f\"Error al iniciar el modelo de lenguaje: {e}\")"
   ]
  }
 ],
 "metadata": {
  "kernelspec": {
   "display_name": "langchain",
   "language": "python",
   "name": "python3"
  },
  "language_info": {
   "codemirror_mode": {
    "name": "ipython",
    "version": 3
   },
   "file_extension": ".py",
   "mimetype": "text/x-python",
   "name": "python",
   "nbconvert_exporter": "python",
   "pygments_lexer": "ipython3",
   "version": "3.11.11"
  }
 },
 "nbformat": 4,
 "nbformat_minor": 5
}
